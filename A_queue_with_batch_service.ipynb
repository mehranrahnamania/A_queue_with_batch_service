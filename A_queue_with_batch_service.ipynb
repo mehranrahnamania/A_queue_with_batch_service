{
  "nbformat": 4,
  "nbformat_minor": 0,
  "metadata": {
    "colab": {
      "private_outputs": true,
      "provenance": []
    },
    "kernelspec": {
      "name": "python3",
      "display_name": "Python 3"
    },
    "language_info": {
      "name": "python"
    }
  },
  "cells": [
    {
      "cell_type": "markdown",
      "source": [
        "In this queueing system with batch service, once the service for a customer is completed by the server, all the customers remaining in the queue are cleared from the queue."
      ],
      "metadata": {
        "id": "qwxK92GUElQy"
      }
    },
    {
      "cell_type": "code",
      "execution_count": null,
      "metadata": {
        "id": "z9pSQsiELb-1"
      },
      "outputs": [],
      "source": [
        "!pip install simpy"
      ]
    },
    {
      "cell_type": "markdown",
      "source": [
        "**Simulation**"
      ],
      "metadata": {
        "id": "teF40ywkEc4W"
      }
    },
    {
      "cell_type": "code",
      "source": [
        "import simpy\n",
        "import random\n",
        "import numpy as np\n",
        "import statistics\n",
        "import numpy as np\n",
        "\n",
        "arrival = []\n",
        "departure = []\n",
        "buffer = 0\n",
        "\n",
        "class Network(object):\n",
        "    def __init__(self, env, mu):\n",
        "        self.env = env\n",
        "        self.server_1 = simpy.Resource(env, 1)\n",
        "        self.mu = mu\n",
        "        self.buffer = 0\n",
        "\n",
        "    def queue_1(self, customer):\n",
        "        yield self.env.timeout(random.expovariate(self.mu))\n",
        "\n",
        "\n",
        "    def go_to_queue(self, customer):\n",
        "        arrival.append(self.env.now)\n",
        "        self.buffer += 1\n",
        "\n",
        "        if self.buffer == 1:\n",
        "            with self.server_1.request() as request:\n",
        "                yield request\n",
        "                yield env.process(self.queue_1(customer))\n",
        "                departure.extend(self.buffer*[self.env.now])\n",
        "                self.buffer = 0\n",
        "        else:\n",
        "            return\n",
        "\n",
        "\n",
        "def run_queues(env, lambda_, mu):\n",
        "    net = Network(env, mu)\n",
        "    customer = 0\n",
        "\n",
        "    while True:\n",
        "        yield env.timeout(random.expovariate(lambda_))\n",
        "\n",
        "        customer =+ 1\n",
        "        env.process(net.go_to_queue(customer))\n",
        "\n",
        "\n",
        "env = simpy.Environment()\n",
        "env.process(run_queues(env, 10, 1))\n",
        "\n",
        "env.run(until=10**5)\n",
        "\n",
        "sum(np.array(departure) - np.array(arrival[:len(departure)]))/len(departure)"
      ],
      "metadata": {
        "id": "O3CMF-AWp8pN"
      },
      "execution_count": null,
      "outputs": []
    },
    {
      "cell_type": "markdown",
      "source": [
        "Theoretical"
      ],
      "metadata": {
        "id": "UAG1vA-DEMNw"
      }
    },
    {
      "cell_type": "code",
      "source": [
        "from sympy import *\n",
        "\n",
        "a1, a2 = symbols('a1 a2')\n",
        "lam = 10\n",
        "a1, a2 = nsolve([Eq(a1, (lam)/(1+a1+a2)), Eq(a2/lam, (a1/(1+a1+a2)) +a2/(1+a1+a2))], [a1, a2], [1,1])\n",
        "p = lam/(a1 + a2 + 1)\n",
        "\n",
        "(p/(1-p))/lam"
      ],
      "metadata": {
        "id": "MLFVqVz9rJQr"
      },
      "execution_count": null,
      "outputs": []
    }
  ]
}